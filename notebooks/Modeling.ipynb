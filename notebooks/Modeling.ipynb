{
  "cells": [
    {
      "cell_type": "markdown",
      "metadata": {},
      "source": [
        "### Modeling using pyspark\n",
        "Here I use pyspark to create an ALS model for recommender system"
      ]
    },
    {
      "cell_type": "code",
      "execution_count": 2,
      "metadata": {
        "id": "i7q059LMLyoL"
      },
      "outputs": [],
      "source": [
        "import pandas as pd\n",
        "from pyspark.sql import SparkSession\n",
        "from pyspark.ml.evaluation import RegressionEvaluator\n",
        "from pyspark.ml.recommendation import ALS\n",
        "from pyspark.ml.feature import StringIndexer\n",
        "from pyspark.sql.functions import col"
      ]
    },
    {
      "cell_type": "code",
      "execution_count": 4,
      "metadata": {
        "id": "zlwpD-9JVF3P"
      },
      "outputs": [],
      "source": [
        "spark = SparkSession.builder.appName(\"ALS\").getOrCreate()\n",
        "\n",
        "ratings_df = spark.read.csv('df_no_cold_start.csv', header=True, inferSchema=True)"
      ]
    },
    {
      "cell_type": "code",
      "execution_count": 5,
      "metadata": {
        "colab": {
          "base_uri": "https://localhost:8080/"
        },
        "id": "hYx06cMSZBaw",
        "outputId": "afaed180-3189-4202-e70b-c943654cbb48"
      },
      "outputs": [
        {
          "data": {
            "text/plain": [
              "[Row(_c0=57, customer_id=38443412, product_id='B00HQVTMK0', star_rating=2, product_id_indexed=8296, customer_id_str='38443412', customer_id_indexed=9953),\n",
              " Row(_c0=63, customer_id=35789310, product_id='B00F877VES', star_rating=4, product_id_indexed=4780, customer_id_str='35789310', customer_id_indexed=692),\n",
              " Row(_c0=68, customer_id=38575075, product_id='B008EPW7TA', star_rating=5, product_id_indexed=528, customer_id_str='38575075', customer_id_indexed=184),\n",
              " Row(_c0=74, customer_id=12166830, product_id='B008UGPBXM', star_rating=5, product_id_indexed=1649, customer_id_str='12166830', customer_id_indexed=2679),\n",
              " Row(_c0=107, customer_id=19951707, product_id='B00CTKBTH2', star_rating=4, product_id_indexed=4713, customer_id_str='19951707', customer_id_indexed=7354)]"
            ]
          },
          "execution_count": 5,
          "metadata": {},
          "output_type": "execute_result"
        }
      ],
      "source": [
        "product_indexer = StringIndexer(inputCol=\"product_id\", outputCol=\"product_id_indexed\")\n",
        "indexed_df = product_indexer.fit(ratings_df).transform(ratings_df)\n",
        "indexed_df = indexed_df.withColumn(\"product_id_indexed\", col(\"product_id_indexed\").cast(\"integer\"))\n",
        "\n",
        "indexed_df = indexed_df.withColumn('customer_id_str', col('customer_id').cast('string'))\n",
        "\n",
        "indexer = StringIndexer(inputCol='customer_id_str', outputCol='customer_id_indexed')\n",
        "\n",
        "indexed_df = indexer.fit(indexed_df).transform(indexed_df)\n",
        "indexed_df = indexed_df.withColumn(\"customer_id_indexed\", col(\"customer_id_indexed\").cast(\"integer\"))\n",
        "indexed_df.head(5)"
      ]
    },
    {
      "cell_type": "code",
      "execution_count": 6,
      "metadata": {
        "id": "mJJJsz93Zd0J"
      },
      "outputs": [],
      "source": [
        "(training, val, test) = indexed_df.randomSplit([0.6, 0.2, 0.2])"
      ]
    },
    {
      "cell_type": "code",
      "execution_count": 92,
      "metadata": {
        "id": "NG9nsgysV34C"
      },
      "outputs": [],
      "source": [
        "als = ALS(userCol=\"customer_id_indexed\",rank = 20, regParam = 0.6, maxIter = 18, itemCol=\"product_id_indexed\", ratingCol=\"star_rating\", coldStartStrategy=\"drop\")"
      ]
    },
    {
      "cell_type": "code",
      "execution_count": 93,
      "metadata": {
        "id": "jjpOI_IrW9qk"
      },
      "outputs": [],
      "source": [
        "model = als.fit(training)"
      ]
    },
    {
      "cell_type": "code",
      "execution_count": 94,
      "metadata": {
        "colab": {
          "base_uri": "https://localhost:8080/"
        },
        "id": "DSW4Nf4pXKgX",
        "outputId": "4ec55492-6237-47e1-8f56-88fda6833dc9"
      },
      "outputs": [
        {
          "name": "stdout",
          "output_type": "stream",
          "text": [
            "Root-mean-square error for train = 0.7744603925322685\n",
            "Root-mean-square error for test = 1.8740797549677606\n",
            "Root-mean-square error for val = 1.8516329601462063\n"
          ]
        }
      ],
      "source": [
        "evaluator = RegressionEvaluator(metricName=\"rmse\", labelCol=\"star_rating\", predictionCol=\"prediction\")\n",
        "predictions_train = model.transform(training)\n",
        "predictions_test = model.transform(test)\n",
        "predictions_val = model.transform(val)\n",
        "\n",
        "rmse_train = evaluator.evaluate(predictions_train)\n",
        "rmse_test = evaluator.evaluate(predictions_test)\n",
        "rmse_val = evaluator.evaluate(predictions_val)\n",
        "print(f\"Root-mean-square error for train = {rmse_train}\")\n",
        "print(f\"Root-mean-square error for test = {rmse_test}\")\n",
        "print(f\"Root-mean-square error for val = {rmse_val}\")"
      ]
    }
  ],
  "metadata": {
    "colab": {
      "provenance": []
    },
    "kernelspec": {
      "display_name": "Python 3",
      "name": "python3"
    },
    "language_info": {
      "name": "python"
    }
  },
  "nbformat": 4,
  "nbformat_minor": 0
}
